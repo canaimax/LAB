{
  "nbformat": 4,
  "nbformat_minor": 0,
  "metadata": {
    "colab": {
      "name": "sof02.ipynb",
      "provenance": [],
      "collapsed_sections": []
    },
    "kernelspec": {
      "name": "python3",
      "display_name": "Python 3"
    },
    "accelerator": "GPU"
  },
  "cells": [
    {
      "cell_type": "code",
      "metadata": {
        "colab": {
          "base_uri": "https://localhost:8080/"
        },
        "id": "8fPMNTHq2vJb",
        "outputId": "1d712eeb-9383-4c4e-e4bd-c4f073839a46"
      },
      "source": [
        "!sudo apt-get install -y xvfb ffmpeg\r\n",
        "!pip install 'imageio==2.4.0'\r\n",
        "!pip install pyvirtualdisplay\r\n",
        "!pip install tf-agents"
      ],
      "execution_count": 1,
      "outputs": [
        {
          "output_type": "stream",
          "text": [
            "Reading package lists... Done\n",
            "Building dependency tree       \n",
            "Reading state information... Done\n",
            "ffmpeg is already the newest version (7:3.4.8-0ubuntu0.2).\n",
            "The following NEW packages will be installed:\n",
            "  xvfb\n",
            "0 upgraded, 1 newly installed, 0 to remove and 13 not upgraded.\n",
            "Need to get 784 kB of archives.\n",
            "After this operation, 2,270 kB of additional disk space will be used.\n",
            "Get:1 http://archive.ubuntu.com/ubuntu bionic-updates/universe amd64 xvfb amd64 2:1.19.6-1ubuntu4.8 [784 kB]\n",
            "Fetched 784 kB in 2s (370 kB/s)\n",
            "debconf: unable to initialize frontend: Dialog\n",
            "debconf: (No usable dialog-like program is installed, so the dialog based frontend cannot be used. at /usr/share/perl5/Debconf/FrontEnd/Dialog.pm line 76, <> line 1.)\n",
            "debconf: falling back to frontend: Readline\n",
            "debconf: unable to initialize frontend: Readline\n",
            "debconf: (This frontend requires a controlling tty.)\n",
            "debconf: falling back to frontend: Teletype\n",
            "dpkg-preconfigure: unable to re-open stdin: \n",
            "Selecting previously unselected package xvfb.\n",
            "(Reading database ... 146374 files and directories currently installed.)\n",
            "Preparing to unpack .../xvfb_2%3a1.19.6-1ubuntu4.8_amd64.deb ...\n",
            "Unpacking xvfb (2:1.19.6-1ubuntu4.8) ...\n",
            "Setting up xvfb (2:1.19.6-1ubuntu4.8) ...\n",
            "Processing triggers for man-db (2.8.3-2ubuntu0.1) ...\n",
            "Collecting imageio==2.4.0\n",
            "\u001b[?25l  Downloading https://files.pythonhosted.org/packages/ac/64/8e2bb6aac43d6ed7c2d9514320b43d5e80c00f150ee2b9408aee24359e6d/imageio-2.4.0.tar.gz (3.3MB)\n",
            "\u001b[K     |████████████████████████████████| 3.3MB 6.0MB/s \n",
            "\u001b[?25hRequirement already satisfied: numpy in /usr/local/lib/python3.6/dist-packages (from imageio==2.4.0) (1.19.5)\n",
            "Requirement already satisfied: pillow in /usr/local/lib/python3.6/dist-packages (from imageio==2.4.0) (7.0.0)\n",
            "Building wheels for collected packages: imageio\n",
            "  Building wheel for imageio (setup.py) ... \u001b[?25l\u001b[?25hdone\n",
            "  Created wheel for imageio: filename=imageio-2.4.0-cp36-none-any.whl size=3303879 sha256=2fb2fcb8f6f518ce262e871b39297b80460eb8b3b0fa835f4c866a3c837f49cf\n",
            "  Stored in directory: /root/.cache/pip/wheels/31/83/88/a1cba54ac06395d9e4ddcd9cf06911cd0b26cd78af9a61071b\n",
            "Successfully built imageio\n",
            "\u001b[31mERROR: albumentations 0.1.12 has requirement imgaug<0.2.7,>=0.2.5, but you'll have imgaug 0.2.9 which is incompatible.\u001b[0m\n",
            "Installing collected packages: imageio\n",
            "  Found existing installation: imageio 2.4.1\n",
            "    Uninstalling imageio-2.4.1:\n",
            "      Successfully uninstalled imageio-2.4.1\n",
            "Successfully installed imageio-2.4.0\n",
            "Collecting pyvirtualdisplay\n",
            "  Downloading https://files.pythonhosted.org/packages/ad/05/6568620fed440941b704664b9cfe5f836ad699ac7694745e7787fbdc8063/PyVirtualDisplay-2.0-py2.py3-none-any.whl\n",
            "Collecting EasyProcess\n",
            "  Downloading https://files.pythonhosted.org/packages/48/3c/75573613641c90c6d094059ac28adb748560d99bd27ee6f80cce398f404e/EasyProcess-0.3-py2.py3-none-any.whl\n",
            "Installing collected packages: EasyProcess, pyvirtualdisplay\n",
            "Successfully installed EasyProcess-0.3 pyvirtualdisplay-2.0\n",
            "Collecting tf-agents\n",
            "\u001b[?25l  Downloading https://files.pythonhosted.org/packages/e7/cd/a0710b1caae042b7a4d54fc74073fb4df7adf073934798443bdc0059813a/tf_agents-0.7.1-py3-none-any.whl (1.2MB)\n",
            "\u001b[K     |████████████████████████████████| 1.2MB 6.1MB/s \n",
            "\u001b[?25hRequirement already satisfied: wrapt>=1.11.1 in /usr/local/lib/python3.6/dist-packages (from tf-agents) (1.12.1)\n",
            "Requirement already satisfied: numpy>=1.13.3 in /usr/local/lib/python3.6/dist-packages (from tf-agents) (1.19.5)\n",
            "Requirement already satisfied: six>=1.10.0 in /usr/local/lib/python3.6/dist-packages (from tf-agents) (1.15.0)\n",
            "Requirement already satisfied: typing-extensions>=3.7.4.3 in /usr/local/lib/python3.6/dist-packages (from tf-agents) (3.7.4.3)\n",
            "Requirement already satisfied: cloudpickle>=1.3 in /usr/local/lib/python3.6/dist-packages (from tf-agents) (1.3.0)\n",
            "Requirement already satisfied: tensorflow-probability>=0.12.1 in /usr/local/lib/python3.6/dist-packages (from tf-agents) (0.12.1)\n",
            "Requirement already satisfied: protobuf>=3.11.3 in /usr/local/lib/python3.6/dist-packages (from tf-agents) (3.12.4)\n",
            "Requirement already satisfied: pillow>=7.0.0 in /usr/local/lib/python3.6/dist-packages (from tf-agents) (7.0.0)\n",
            "Requirement already satisfied: gym>=0.17.0 in /usr/local/lib/python3.6/dist-packages (from tf-agents) (0.17.3)\n",
            "Requirement already satisfied: gin-config>=0.4.0 in /usr/local/lib/python3.6/dist-packages (from tf-agents) (0.4.0)\n",
            "Requirement already satisfied: absl-py>=0.6.1 in /usr/local/lib/python3.6/dist-packages (from tf-agents) (0.10.0)\n",
            "Requirement already satisfied: decorator in /usr/local/lib/python3.6/dist-packages (from tensorflow-probability>=0.12.1->tf-agents) (4.4.2)\n",
            "Requirement already satisfied: dm-tree in /usr/local/lib/python3.6/dist-packages (from tensorflow-probability>=0.12.1->tf-agents) (0.1.5)\n",
            "Requirement already satisfied: gast>=0.3.2 in /usr/local/lib/python3.6/dist-packages (from tensorflow-probability>=0.12.1->tf-agents) (0.3.3)\n",
            "Requirement already satisfied: setuptools in /usr/local/lib/python3.6/dist-packages (from protobuf>=3.11.3->tf-agents) (51.3.3)\n",
            "Requirement already satisfied: scipy in /usr/local/lib/python3.6/dist-packages (from gym>=0.17.0->tf-agents) (1.4.1)\n",
            "Requirement already satisfied: pyglet<=1.5.0,>=1.4.0 in /usr/local/lib/python3.6/dist-packages (from gym>=0.17.0->tf-agents) (1.5.0)\n",
            "Requirement already satisfied: future in /usr/local/lib/python3.6/dist-packages (from pyglet<=1.5.0,>=1.4.0->gym>=0.17.0->tf-agents) (0.16.0)\n",
            "Installing collected packages: tf-agents\n",
            "Successfully installed tf-agents-0.7.1\n"
          ],
          "name": "stdout"
        }
      ]
    },
    {
      "cell_type": "code",
      "metadata": {
        "id": "jQWhgyxc3XrB"
      },
      "source": [
        "from __future__ import absolute_import\r\n",
        "from __future__ import division\r\n",
        "from __future__ import print_function\r\n",
        "\r\n",
        "import base64\r\n",
        "import imageio\r\n",
        "import IPython\r\n",
        "import matplotlib\r\n",
        "import matplotlib.pyplot as plt\r\n",
        "import numpy as np\r\n",
        "import PIL.Image\r\n",
        "import pyvirtualdisplay\r\n",
        "\r\n",
        "import tensorflow as tf\r\n",
        "\r\n",
        "from tf_agents.agents.reinforce import reinforce_agent\r\n",
        "\r\n",
        "from tf_agents.drivers import dynamic_step_driver\r\n",
        "\r\n",
        "from tf_agents.environments import suite_gym\r\n",
        "\r\n",
        "from tf_agents.environments import tf_py_environment\r\n",
        "\r\n",
        "from tf_agents.eval import metric_utils\r\n",
        "\r\n",
        "from tf_agents.metrics import tf_metrics\r\n",
        "\r\n",
        "from tf_agents.networks import actor_distribution_network\r\n",
        "\r\n",
        "from tf_agents.replay_buffers import tf_uniform_replay_buffer\r\n",
        "\r\n",
        "from tf_agents.trajectories import trajectory\r\n",
        "\r\n",
        "from tf_agents.utils import common\r\n",
        "\r\n",
        "tf.compat.v1.enable_v2_behavior()\r\n",
        "\r\n",
        "# set up virtual display\r\n",
        "display = pyvirtualdisplay.Display(visible=0, size=(1400, 900)).start()\r\n",
        "\r\n",
        "\r\n",
        "\r\n"
      ],
      "execution_count": 2,
      "outputs": []
    },
    {
      "cell_type": "code",
      "metadata": {
        "id": "l7Qjy_I13eyd"
      },
      "source": [
        "env_name = \"CartPole-v0\" # @param {type:\"string\"}\r\n",
        "num_iterations = 250 # @param {type:\"integer\"}\r\n",
        "collect_episodes_per_iteration = 2 # @param {type:\"integer\"}\r\n",
        "replay_buffer_capasity = 2000 # @param {type:\"integer\"}\r\n",
        "\r\n",
        "fc_layer_params = (100,)\r\n",
        "\r\n",
        "learning_rate = 1e-3 # @param {type:\"number\"}\r\n",
        "log_interval = 25 # @param {type:\"integer\"}\r\n",
        "num_eval_episodes = 10 # @param {type:\"integer\"}\r\n",
        "eval_interval = 50 # @param {type:\"integer\"}"
      ],
      "execution_count": 3,
      "outputs": []
    },
    {
      "cell_type": "code",
      "metadata": {
        "colab": {
          "base_uri": "https://localhost:8080/"
        },
        "id": "aZynIWDI3kck",
        "outputId": "fd6c0949-b675-43c6-ca9e-72ee919d54ee"
      },
      "source": [
        "env = suite_gym.load(env_name)\r\n",
        "print(\"Load the artpole enviroment successfully!\")"
      ],
      "execution_count": 4,
      "outputs": [
        {
          "output_type": "stream",
          "text": [
            "Load the artpole enviroment successfully!\n"
          ],
          "name": "stdout"
        }
      ]
    },
    {
      "cell_type": "code",
      "metadata": {
        "colab": {
          "base_uri": "https://localhost:8080/"
        },
        "id": "aPJ2jgN33n3q",
        "outputId": "8a63d25e-eef4-47a7-e4f4-5c129d955c4c"
      },
      "source": [
        "print('Observation Spec:')\r\n",
        "print(env.time_step_spec().observation)\r\n",
        "print('Action Spec:')\r\n",
        "print(env.action_spec())"
      ],
      "execution_count": 5,
      "outputs": [
        {
          "output_type": "stream",
          "text": [
            "Observation Spec:\n",
            "BoundedArraySpec(shape=(4,), dtype=dtype('float32'), name='observation', minimum=[-4.8000002e+00 -3.4028235e+38 -4.1887903e-01 -3.4028235e+38], maximum=[4.8000002e+00 3.4028235e+38 4.1887903e-01 3.4028235e+38])\n",
            "Action Spec:\n",
            "BoundedArraySpec(shape=(), dtype=dtype('int64'), name='action', minimum=0, maximum=1)\n"
          ],
          "name": "stdout"
        }
      ]
    },
    {
      "cell_type": "code",
      "metadata": {
        "colab": {
          "base_uri": "https://localhost:8080/"
        },
        "id": "BgKEI_Lj3ryh",
        "outputId": "668918d2-5b31-4153-a037-2b9c101be41b"
      },
      "source": [
        "train_py_env = suite_gym.load(env_name)\r\n",
        "eval_py_env = suite_gym.load(env_name)\r\n",
        "\r\n",
        "train_env = tf_py_environment.TFPyEnvironment(train_py_env)\r\n",
        "eval_env = tf_py_environment.TFPyEnvironment(eval_py_env)\r\n",
        "\r\n",
        "print(\"Created the enviroment successfully!\")"
      ],
      "execution_count": 6,
      "outputs": [
        {
          "output_type": "stream",
          "text": [
            "Created the enviroment successfully!\n"
          ],
          "name": "stdout"
        }
      ]
    },
    {
      "cell_type": "code",
      "metadata": {
        "id": "NstH7Qf83vOd"
      },
      "source": [
        "actor_net = actor_distribution_network.ActorDistributionNetwork(\r\n",
        "    train_env.observation_spec(),\r\n",
        "    train_env.action_spec(),\r\n",
        "    fc_layer_params=fc_layer_params)"
      ],
      "execution_count": 7,
      "outputs": []
    },
    {
      "cell_type": "code",
      "metadata": {
        "id": "G1fqhGYa3zk0"
      },
      "source": [
        "optimizer = tf.compat.v1.train.AdadeltaOptimizer(learning_rate=learning_rate)\r\n",
        "\r\n",
        "train_step_counter = tf.compat.v2.Variable(0)\r\n",
        "\r\n",
        "tf_agent = reinforce_agent.ReinforceAgent(\r\n",
        "    train_env.time_step_spec(),\r\n",
        "    train_env.action_spec(),\r\n",
        "    actor_network=actor_net,\r\n",
        "    optimizer=optimizer,\r\n",
        "    normalize_returns = True,\r\n",
        "    train_step_counter=train_step_counter)\r\n",
        "tf_agent.initialize()"
      ],
      "execution_count": 8,
      "outputs": []
    },
    {
      "cell_type": "code",
      "metadata": {
        "colab": {
          "base_uri": "https://localhost:8080/"
        },
        "id": "_kA1NRIp33HN",
        "outputId": "ee5b1c3a-1e6f-4399-ef62-52b3c4abe3db"
      },
      "source": [
        "eval_policy = tf_agent.policy\r\n",
        "collect_policy = tf_agent.collect_policy\r\n",
        "print(\"Created policies successfully!\")"
      ],
      "execution_count": 9,
      "outputs": [
        {
          "output_type": "stream",
          "text": [
            "Created policies successfully!\n"
          ],
          "name": "stdout"
        }
      ]
    },
    {
      "cell_type": "code",
      "metadata": {
        "id": "ebmKSiQO360c"
      },
      "source": [
        "def compute_avg_return(environment, policy, num_episodes=10):\r\n",
        "\r\n",
        "  total_return = 0.0\r\n",
        "  for _ in range(num_episodes):\r\n",
        "\r\n",
        "    time_step = environment.reset()\r\n",
        "    episode_return = 0.0\r\n",
        "\r\n",
        "    while not time_step.is_last():\r\n",
        "      action_step = policy.action(time_step)\r\n",
        "      time_step = environment.step(action_step.action)\r\n",
        "      episode_return += time_step.reward\r\n",
        "    total_return += episode_return\r\n",
        "\r\n",
        "  avg_return = total_return / num_eval_episodes\r\n",
        "  return avg_return.numpy()[0]"
      ],
      "execution_count": 10,
      "outputs": []
    },
    {
      "cell_type": "code",
      "metadata": {
        "id": "mcB1ns2w391D"
      },
      "source": [
        "replay_buffer = tf_uniform_replay_buffer.TFUniformReplayBuffer(\r\n",
        "    data_spec=tf_agent.collect_data_spec,\r\n",
        "    batch_size=train_env.batch_size,\r\n",
        "    max_length=replay_buffer_capasity)"
      ],
      "execution_count": 11,
      "outputs": []
    },
    {
      "cell_type": "code",
      "metadata": {
        "id": "o_zp9fj44BXR"
      },
      "source": [
        "def collect_episode(environment, policy, num_episodes):\r\n",
        "\r\n",
        "  episode_counter = 0\r\n",
        "  environment.reset()\r\n",
        "\r\n",
        "  while episode_counter < num_eval_episodes:\r\n",
        "    time_step = environment.current_time_step()\r\n",
        "    action_step = policy.action(time_step)\r\n",
        "    next_time_step = environment.step(action_step.action)\r\n",
        "    traj = trajectory.from_transition(time_step, action_step, next_time_step)\r\n",
        "\r\n",
        "    replay_buffer.add_batch(traj)\r\n",
        "\r\n",
        "    if traj.is_boundary():\r\n",
        "      episode_counter += 1"
      ],
      "execution_count": 12,
      "outputs": []
    },
    {
      "cell_type": "code",
      "metadata": {
        "colab": {
          "base_uri": "https://localhost:8080/"
        },
        "id": "2rGmgGMB4EfL",
        "outputId": "1e546968-24e0-437b-836d-9adad501f209"
      },
      "source": [
        "try:\r\n",
        "  %%time\r\n",
        "except:\r\n",
        "  pass\r\n",
        "\r\n",
        "tf_agent.train = common.function(tf_agent.train)\r\n",
        "\r\n",
        "tf_agent.train_step_counter.assign(0)\r\n",
        "\r\n",
        "avg_return = compute_avg_return(eval_env, tf_agent.policy, num_eval_episodes)\r\n",
        "returns = [avg_return]\r\n",
        "\r\n",
        "for _ in range(num_iterations):\r\n",
        "\r\n",
        "  collect_episode(\r\n",
        "      train_env, tf_agent.collect_policy, collect_episodes_per_iteration)\r\n",
        "  \r\n",
        "  experience = replay_buffer.gather_all()\r\n",
        "  train_loss = tf_agent.train(experience)\r\n",
        "  replay_buffer.clear()\r\n",
        "\r\n",
        "  step = tf_agent.train_step_counter.numpy()\r\n",
        "\r\n",
        "  if step % log_interval == 0:\r\n",
        "    print('step = {0}: loss = {1}'.format(step, train_loss.loss))\r\n",
        "\r\n",
        "  if step % eval_interval == 0:\r\n",
        "    avg_return = compute_avg_return(eval_env, tf_agent.policy, num_eval_episodes)\r\n",
        "    print('step = {0}: Average Return = {1}'.format(step, avg_return))\r\n",
        "    returns.append(avg_return)"
      ],
      "execution_count": 13,
      "outputs": [
        {
          "output_type": "stream",
          "text": [
            "CPU times: user 2 µs, sys: 0 ns, total: 2 µs\n",
            "Wall time: 4.53 µs\n",
            "WARNING:tensorflow:From <ipython-input-13-1f06ba06c548>:18: ReplayBuffer.gather_all (from tf_agents.replay_buffers.replay_buffer) is deprecated and will be removed in a future version.\n",
            "Instructions for updating:\n",
            "Use `as_dataset(..., single_deterministic_pass=True)` instead.\n",
            "step = 25: loss = -0.21636953949928284\n",
            "step = 50: loss = -0.34083348512649536\n",
            "step = 50: Average Return = 13.100000381469727\n",
            "step = 75: loss = -0.4476584494113922\n",
            "step = 100: loss = -0.2289871722459793\n",
            "step = 100: Average Return = 19.899999618530273\n",
            "step = 125: loss = -0.3507756292819977\n",
            "step = 150: loss = -0.7226411700248718\n",
            "step = 150: Average Return = 12.600000381469727\n",
            "step = 175: loss = -0.23479703068733215\n",
            "step = 200: loss = -0.27667808532714844\n",
            "step = 200: Average Return = 18.899999618530273\n",
            "step = 225: loss = -0.6272783875465393\n",
            "step = 250: loss = -0.4762727618217468\n",
            "step = 250: Average Return = 24.399999618530273\n"
          ],
          "name": "stdout"
        }
      ]
    },
    {
      "cell_type": "code",
      "metadata": {
        "colab": {
          "base_uri": "https://localhost:8080/",
          "height": 301
        },
        "id": "yX7U3PbG4Gh4",
        "outputId": "b9637c58-3c43-494c-c4b4-77f017e726d5"
      },
      "source": [
        "steps = range(0, num_iterations + 1, eval_interval)\r\n",
        "plt.plot(steps, returns)\r\n",
        "plt.ylabel('Average Return')\r\n",
        "plt.xlabel('Step')\r\n",
        "plt.ylim(top=250)"
      ],
      "execution_count": 14,
      "outputs": [
        {
          "output_type": "execute_result",
          "data": {
            "text/plain": [
              "(12.010000419616699, 250.0)"
            ]
          },
          "metadata": {
            "tags": []
          },
          "execution_count": 14
        },
        {
          "output_type": "display_data",
          "data": {
            "image/png": "[encoded data removed]",
            "text/plain": [
              "<Figure size 432x288 with 1 Axes>"
            ]
          },
          "metadata": {
            "tags": [],
            "needs_background": "light"
          }
        }
      ]
    },
    {
      "cell_type": "code",
      "metadata": {
        "id": "ZVf2WcUx4J-O"
      },
      "source": [
        "def embed_mp4(filename):\r\n",
        "  video = open(filename, 'rb').read()\r\n",
        "  b64 = base64.b64encode(video)\r\n",
        "  tag='''\r\n",
        "  <video width=\"640\" height=\"480\" controls>\r\n",
        "    <source src=\"data:video/mp4;base64,{0}\" type=\"video/mp4\">\r\n",
        "  Your browser does not support the video tag.\r\n",
        "  </video>'''.format(b64.decode())\r\n",
        "\r\n",
        "  return IPython.display.HTML(tag)"
      ],
      "execution_count": 15,
      "outputs": []
    },
    {
      "cell_type": "code",
      "metadata": {
        "colab": {
          "base_uri": "https://localhost:8080/",
          "height": 538
        },
        "id": "RAkilSLZ4NxG",
        "outputId": "fab18f8b-c026-4636-8dda-a936456204ed"
      },
      "source": [
        "num_episodes = 3\r\n",
        "video_filename = 'imageio.mp4'\r\n",
        "with imageio.get_writer(video_filename, fps=60) as video:\r\n",
        "  for _ in range(num_episodes):\r\n",
        "    time_step = eval_env.reset()\r\n",
        "    video.append_data(eval_py_env.render())\r\n",
        "    while not time_step.is_last():\r\n",
        "      action_step = tf_agent.policy.action(time_step)\r\n",
        "      time_step = eval_env.step(action_step.action)\r\n",
        "      video.append_data(eval_py_env.render())\r\n",
        "\r\n",
        "embed_mp4(video_filename)"
      ],
      "execution_count": 18,
      "outputs": [
        {
          "output_type": "stream",
          "text": [
            "WARNING:root:IMAGEIO FFMPEG_WRITER WARNING: input image is not divisible by macro_block_size=16, resizing from (400, 600) to (400, 608) to ensure video compatibility with most codecs and players. To prevent resizing, make your input image divisible by the macro_block_size or set the macro_block_size to None (risking incompatibility). You may also see a FFMPEG warning concerning speedloss due to data not being aligned.\n"
          ],
          "name": "stderr"
        },
        {
          "output_type": "execute_result",
          "data": {
            "text/html": [
              "\n",
              "  <video width=\"640\" height=\"480\" controls>\n",
              "    <source src=\"data:video/mp4;base64,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\" type=\"video/mp4\">\n",
              "  Your browser does not support the video tag.\n",
              "  </video>"
            ],
            "text/plain": [
              "<IPython.core.display.HTML object>"
            ]
          },
          "metadata": {
            "tags": []
          },
          "execution_count": 18
        }
      ]
    }
  ]
}